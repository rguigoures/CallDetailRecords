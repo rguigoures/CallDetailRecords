{
 "cells": [
  {
   "cell_type": "markdown",
   "metadata": {},
   "source": [
    "## Example of Information Theoretical Clustering of Relational Data"
   ]
  },
  {
   "cell_type": "code",
   "execution_count": 1,
   "metadata": {
    "collapsed": false
   },
   "outputs": [],
   "source": [
    "import networkx as nx\n",
    "import pandas\n",
    "from utils.data_processing import *\n",
    "from algorithms.information_theoretical_clustering import InformationTheoreticalClustering\n",
    "from matplotlib import pyplot as plt\n",
    "import matplotlib.cm as cm"
   ]
  },
  {
   "cell_type": "markdown",
   "metadata": {},
   "source": [
    "Load the data and build a projected Graph where nodes are CellId and edges are the number of sms sent in the same countries."
   ]
  },
  {
   "cell_type": "code",
   "execution_count": 2,
   "metadata": {
    "collapsed": false
   },
   "outputs": [],
   "source": [
    "cdr_data = process_data('data/mobile-phone-activity/sms-call-internet-mi-2013-11-01.csv', truncate=500)\n",
    "itc = InformationTheoreticalClustering(cdr_data)"
   ]
  },
  {
   "cell_type": "markdown",
   "metadata": {},
   "source": [
    "Function plotting two matrices:\n",
    "1. the joint density in the blocks of a matrix (the darker the denser)\n",
    "2. the mutual information matrix (red excess of interaction, blue lack of interation compared to expected in case of independence)\n",
    "\n",
    "The joint density P(row,col) does not take into account that if clusters are unbalanced in terms of observations, the density will be high for the biggest cluster, though it might not show any interesting pattern. The mutual information corrects that problem by dividing the join probability by the marginal distribution over rows and columns:\n",
    "\\begin{align}\n",
    "mi = P(row,col) log\\left(\\dfrac{P(row,col)}{P(row)P(col)}\\right)\n",
    "\\end{align}"
   ]
  },
  {
   "cell_type": "code",
   "execution_count": 3,
   "metadata": {
    "collapsed": false
   },
   "outputs": [],
   "source": [
    "def plot_matrices(adjacency_matrix, mi_matrix):\n",
    "    plt.clf()\n",
    "    fig = plt.figure()\n",
    "    ax = fig.add_subplot(121)\n",
    "    ax.imshow(adjacency_matrix, interpolation='nearest', cmap=cm.Greys, vmin=0, vmax=.25)\n",
    "    ax = fig.add_subplot(122)\n",
    "    ax.imshow(mi_matrix, interpolation='nearest', cmap=cm.bwr, vmin=-0.2, vmax=0.2)\n",
    "    plt.show()"
   ]
  },
  {
   "cell_type": "markdown",
   "metadata": {},
   "source": [
    "Generates random clusters and plot the clusters adjacency matrix to see that the density is randomly distributed over the blocks: \n",
    "- The adjacency matrix is normalized to obtain the joint probability matrix (left). No underlying structure seems to appear\n",
    "- The mutual information is plotted on the right. All the cells arewhite meaning that the joint probability os somehow close to the product of the marginals (no pattern)"
   ]
  },
  {
   "cell_type": "code",
   "execution_count": 4,
   "metadata": {
    "collapsed": false
   },
   "outputs": [
    {
     "data": {
      "text/plain": [
       "<matplotlib.figure.Figure at 0x10f4eff90>"
      ]
     },
     "metadata": {},
     "output_type": "display_data"
    },
    {
     "data": {
      "image/png": "[encoded data removed]",
      "text/plain": [
       "<matplotlib.figure.Figure at 0x1166c4e10>"
      ]
     },
     "metadata": {},
     "output_type": "display_data"
    }
   ],
   "source": [
    "random_clusters = InformationTheoreticalClustering.random_partition([node-1 for node in range(itc.adjacency_matrix.shape[0])], k=5)\n",
    "random_adjacency_matrix = InformationTheoreticalClustering.build_cluster_adjacency_matrix(itc.adjacency_matrix, random_clusters)\n",
    "random_mi_matrix = InformationTheoreticalClustering.compute_mutual_information(random_adjacency_matrix)\n",
    "random_probability_matrix = random_adjacency_matrix / float(random_adjacency_matrix.sum())\n",
    "plot_matrices(random_probability_matrix, random_mi_matrix)"
   ]
  },
  {
   "cell_type": "markdown",
   "metadata": {},
   "source": [
    "We apply the information theoretical clustering algorithm to the call detail records and plot the adjacency matrix of  the obtained clustering: \n",
    "- The adjacency matrix is normalized to obtain the joint probability matrix (left), reavealing a diagonal structure.\n",
    "- The mutual information is plotted on the right. The matrix confirms the diagonal structure but emphasises certain interations that are not visible on the joint density matrix. For example row 4 and column 1, there is a pretty high density of interactions but way lower than expected if we consider the interactions emerging from clusters 1 and 4."
   ]
  },
  {
   "cell_type": "code",
   "execution_count": 5,
   "metadata": {
    "collapsed": false
   },
   "outputs": [
    {
     "data": {
      "text/plain": [
       "<matplotlib.figure.Figure at 0x1166c4150>"
      ]
     },
     "metadata": {},
     "output_type": "display_data"
    },
    {
     "data": {
      "image/png": "[encoded data removed]",
      "text/plain": [
       "<matplotlib.figure.Figure at 0x1166c4990>"
      ]
     },
     "metadata": {},
     "output_type": "display_data"
    }
   ],
   "source": [
    "clusters, adjacency_matrix = itc.information_theoretical_clustering(k=5)\n",
    "probability_matrix = adjacency_matrix / float(adjacency_matrix.sum())\n",
    "mi_matrix = InformationTheoreticalClustering.compute_mutual_information(adjacency_matrix)\n",
    "plot_matrices(probability_matrix, mi_matrix)"
   ]
  }
 ],
 "metadata": {
  "anaconda-cloud": {},
  "kernelspec": {
   "display_name": "Python [conda env:jupyter_env]",
   "language": "python",
   "name": "conda-env-jupyter_env-py"
  },
  "language_info": {
   "codemirror_mode": {
    "name": "ipython",
    "version": 2
   },
   "file_extension": ".py",
   "mimetype": "text/x-python",
   "name": "python",
   "nbconvert_exporter": "python",
   "pygments_lexer": "ipython2",
   "version": "2.7.13"
  }
 },
 "nbformat": 4,
 "nbformat_minor": 2
}
