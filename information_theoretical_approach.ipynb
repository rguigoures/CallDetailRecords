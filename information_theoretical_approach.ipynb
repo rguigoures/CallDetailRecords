{
 "cells": [
  {
   "cell_type": "code",
   "execution_count": 28,
   "metadata": {
    "collapsed": true
   },
   "outputs": [],
   "source": [
    "import networkx as nx\n",
    "import pandas\n",
    "from data_processing import *\n",
    "from modularity import cdr_graph\n",
    "from matplotlib import pyplot as plt\n",
    "import matplotlib.cm as cm"
   ]
  },
  {
   "cell_type": "markdown",
   "metadata": {},
   "source": [
    "Load the data and build a projected Graph where nodes are CellId and edges are the number of sms sent in the same countries."
   ]
  },
  {
   "cell_type": "code",
   "execution_count": 29,
   "metadata": {
    "collapsed": false
   },
   "outputs": [],
   "source": [
    "cdr_data = process_data('data/mobile-phone-activity/sms-call-internet-mi-2013-11-01.csv')\n",
    "g = cdr_graph(cdr_data)"
   ]
  },
  {
   "cell_type": "markdown",
   "metadata": {},
   "source": [
    "Function plotting the density in the blocks of a matrix, the darker the denser"
   ]
  },
  {
   "cell_type": "code",
   "execution_count": 30,
   "metadata": {
    "collapsed": false
   },
   "outputs": [],
   "source": [
    "def plot_matrix(matrix):\n",
    "    plt.clf()\n",
    "    fig = plt.figure()\n",
    "    ax = fig.add_subplot(111)\n",
    "    ax.imshow(matrix, interpolation='nearest', cmap=cm.Greys)\n",
    "    plt.show()"
   ]
  },
  {
   "cell_type": "markdown",
   "metadata": {},
   "source": [
    "Generates random clusters and plot it to see that the density is randomly distributed over the blocks. \n",
    "The adjacency matrix is normalized to obtain the joint probability matrix.\n",
    "We display the log of the probability matrix to smooth density peaks and get a better visualisation."
   ]
  },
  {
   "cell_type": "code",
   "execution_count": 33,
   "metadata": {
    "collapsed": false
   },
   "outputs": [
    {
     "data": {
      "text/plain": [
       "<matplotlib.figure.Figure at 0x119f4a5d0>"
      ]
     },
     "metadata": {},
     "output_type": "display_data"
    },
    {
     "data": {
      "image/png": "[encoded data removed]",
      "text/plain": [
       "<matplotlib.figure.Figure at 0x119bd8a90>"
      ]
     },
     "metadata": {},
     "output_type": "display_data"
    }
   ],
   "source": [
    "random_clusters = cdr_graph.random_partition([node-1 for node in g.graph.nodes], k=5)\n",
    "random_cluster_adjacency_matrix = cdr_graph.build_cluster_adjacency_matrix(nx.to_numpy_matrix(g.graph), random_clusters)\n",
    "random_log_probability_matrix = np.log(random_cluster_adjacency_matrix / float(random_cluster_adjacency_matrix.sum()))\n",
    "plot_matrix(random_log_probability_matrix)"
   ]
  },
  {
   "cell_type": "markdown",
   "metadata": {},
   "source": [
    "Here the information theoretical approach is performed to clusters the nodes: similar rows and columns are simultaneously grouped together to let appear the underlying structure in the graph."
   ]
  },
  {
   "cell_type": "code",
   "execution_count": 34,
   "metadata": {
    "collapsed": false
   },
   "outputs": [
    {
     "data": {
      "text/plain": [
       "<matplotlib.figure.Figure at 0x118472fd0>"
      ]
     },
     "metadata": {},
     "output_type": "display_data"
    },
    {
     "data": {
      "image/png": "[encoded data removed]",
      "text/plain": [
       "<matplotlib.figure.Figure at 0x151e43e810>"
      ]
     },
     "metadata": {},
     "output_type": "display_data"
    }
   ],
   "source": [
    "clusters, adjacency_matrix = g.information_theoretical_coclustering(nx.to_numpy_matrix(g.graph), k=5)\n",
    "log_probability_matrix = np.log(adjacency_matrix / float(adjacency_matrix.sum()))\n",
    "plot_matrix(probability_matrix)"
   ]
  }
 ],
 "metadata": {
  "anaconda-cloud": {},
  "kernelspec": {
   "display_name": "Python [conda env:jupyter_env]",
   "language": "python",
   "name": "conda-env-jupyter_env-py"
  },
  "language_info": {
   "codemirror_mode": {
    "name": "ipython",
    "version": 2
   },
   "file_extension": ".py",
   "mimetype": "text/x-python",
   "name": "python",
   "nbconvert_exporter": "python",
   "pygments_lexer": "ipython2",
   "version": "2.7.13"
  }
 },
 "nbformat": 4,
 "nbformat_minor": 2
}
