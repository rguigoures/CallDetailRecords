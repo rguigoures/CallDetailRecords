{
 "cells": [
  {
   "cell_type": "code",
   "execution_count": 3,
   "metadata": {
    "collapsed": false
   },
   "outputs": [
    {
     "ename": "ImportError",
     "evalue": "No module named pystan",
     "output_type": "error",
     "traceback": [
      "\u001b[1;31m---------------------------------------------------------------------------\u001b[0m",
      "\u001b[1;31mImportError\u001b[0m                               Traceback (most recent call last)",
      "\u001b[1;32m<ipython-input-3-7b354c723dbb>\u001b[0m in \u001b[0;36m<module>\u001b[1;34m()\u001b[0m\n\u001b[1;32m----> 1\u001b[1;33m \u001b[1;32mimport\u001b[0m \u001b[0mpystan\u001b[0m\u001b[1;33m\u001b[0m\u001b[0m\n\u001b[0m",
      "\u001b[1;31mImportError\u001b[0m: No module named pystan"
     ]
    }
   ],
   "source": [
    "import pystan"
   ]
  },
  {
   "cell_type": "code",
   "execution_count": 2,
   "metadata": {
    "collapsed": true
   },
   "outputs": [],
   "source": [
    "model = \"\"\"\n",
    "data {\n",
    "// training data\n",
    "int<lower=1> K; // num of clusters\n",
    "int<lower=1> C; // num of Countries\n",
    "int<lower=0> A; // num of Antennas\n",
    "int<lower=0> N; // total sms\n",
    "int<lower=1,upper=K> cluster[A]; // clusters for antenna m\n",
    "int<lower=1,upper=C> country[N]; // country for sms n\n",
    "int<lower=1,upper=A> sms[N]; // antenna for sms n\n",
    "// hyperparameters\n",
    "vector<lower=0>[K] alpha; // prior hyperparameter for cluster\n",
    "vector<lower=0>[C] beta; // prior on country\n",
    "}\n",
    "parameters {\n",
    "simplex[K] theta; // cluster prevalence\n",
    "simplex[C] phi[K]; // country distribution for cluster k\n",
    "}\n",
    "model {\n",
    "theta ~ dirichlet(alpha);\n",
    "for (k in 1:K)\n",
    "    phi[k] ~ dirichlet(beta);\n",
    "for (m in 1:A)\n",
    "    cluster[m] ~ categorical(theta);\n",
    "for (n in 1:N)\n",
    "    country[n] ~ multinomiale(phi[cluster[sms[n]]]);\n",
    "}\n",
    "\"\"\""
   ]
  },
  {
   "cell_type": "code",
   "execution_count": null,
   "metadata": {
    "collapsed": true
   },
   "outputs": [],
   "source": []
  }
 ],
 "metadata": {
  "kernelspec": {
   "display_name": "Python 2",
   "language": "python",
   "name": "python2"
  },
  "language_info": {
   "codemirror_mode": {
    "name": "ipython",
    "version": 2
   },
   "file_extension": ".py",
   "mimetype": "text/x-python",
   "name": "python",
   "nbconvert_exporter": "python",
   "pygments_lexer": "ipython2",
   "version": "2.7.11"
  }
 },
 "nbformat": 4,
 "nbformat_minor": 0
}
